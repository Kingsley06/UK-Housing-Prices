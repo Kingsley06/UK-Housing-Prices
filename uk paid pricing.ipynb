{
 "cells": [
  {
   "cell_type": "code",
   "execution_count": 1,
   "id": "4ea3ed74",
   "metadata": {},
   "outputs": [],
   "source": [
    "# Import the necessary Libraries\n",
    "\n",
    "import pandas as pd\n",
    "import numpy as np\n",
    "import seaborn as sns\n",
    "import matplotlib.pyplot as plt\n",
    "%matplotlib inline\n",
    "sns.set(color_codes=True)\n"
   ]
  },
  {
   "cell_type": "code",
   "execution_count": 2,
   "id": "71de8f2f",
   "metadata": {},
   "outputs": [
    {
     "data": {
      "text/html": [
       "<div>\n",
       "<style scoped>\n",
       "    .dataframe tbody tr th:only-of-type {\n",
       "        vertical-align: middle;\n",
       "    }\n",
       "\n",
       "    .dataframe tbody tr th {\n",
       "        vertical-align: top;\n",
       "    }\n",
       "\n",
       "    .dataframe thead th {\n",
       "        text-align: right;\n",
       "    }\n",
       "</style>\n",
       "<table border=\"1\" class=\"dataframe\">\n",
       "  <thead>\n",
       "    <tr style=\"text-align: right;\">\n",
       "      <th></th>\n",
       "      <th>Transaction unique identifier</th>\n",
       "      <th>Price</th>\n",
       "      <th>Date of Transfer</th>\n",
       "      <th>Property Type</th>\n",
       "      <th>Old/New</th>\n",
       "      <th>Duration</th>\n",
       "      <th>Town/City</th>\n",
       "      <th>District</th>\n",
       "      <th>County</th>\n",
       "      <th>PPDCategory Type</th>\n",
       "      <th>Record Status - monthly file only</th>\n",
       "    </tr>\n",
       "  </thead>\n",
       "  <tbody>\n",
       "    <tr>\n",
       "      <th>0</th>\n",
       "      <td>{81B82214-7FBC-4129-9F6B-4956B4A663AD}</td>\n",
       "      <td>25000</td>\n",
       "      <td>1995-08-18 00:00</td>\n",
       "      <td>T</td>\n",
       "      <td>N</td>\n",
       "      <td>F</td>\n",
       "      <td>OLDHAM</td>\n",
       "      <td>OLDHAM</td>\n",
       "      <td>GREATER MANCHESTER</td>\n",
       "      <td>A</td>\n",
       "      <td>A</td>\n",
       "    </tr>\n",
       "    <tr>\n",
       "      <th>1</th>\n",
       "      <td>{8046EC72-1466-42D6-A753-4956BF7CD8A2}</td>\n",
       "      <td>42500</td>\n",
       "      <td>1995-08-09 00:00</td>\n",
       "      <td>S</td>\n",
       "      <td>N</td>\n",
       "      <td>F</td>\n",
       "      <td>GRAYS</td>\n",
       "      <td>THURROCK</td>\n",
       "      <td>THURROCK</td>\n",
       "      <td>A</td>\n",
       "      <td>A</td>\n",
       "    </tr>\n",
       "    <tr>\n",
       "      <th>2</th>\n",
       "      <td>{278D581A-5BF3-4FCE-AF62-4956D87691E6}</td>\n",
       "      <td>45000</td>\n",
       "      <td>1995-06-30 00:00</td>\n",
       "      <td>T</td>\n",
       "      <td>N</td>\n",
       "      <td>F</td>\n",
       "      <td>HIGHBRIDGE</td>\n",
       "      <td>SEDGEMOOR</td>\n",
       "      <td>SOMERSET</td>\n",
       "      <td>A</td>\n",
       "      <td>A</td>\n",
       "    </tr>\n",
       "    <tr>\n",
       "      <th>3</th>\n",
       "      <td>{1D861C06-A416-4865-973C-4956DB12CD12}</td>\n",
       "      <td>43150</td>\n",
       "      <td>1995-11-24 00:00</td>\n",
       "      <td>T</td>\n",
       "      <td>N</td>\n",
       "      <td>F</td>\n",
       "      <td>BEDFORD</td>\n",
       "      <td>NORTH BEDFORDSHIRE</td>\n",
       "      <td>BEDFORDSHIRE</td>\n",
       "      <td>A</td>\n",
       "      <td>A</td>\n",
       "    </tr>\n",
       "    <tr>\n",
       "      <th>4</th>\n",
       "      <td>{DD8645FD-A815-43A6-A7BA-4956E58F1874}</td>\n",
       "      <td>18899</td>\n",
       "      <td>1995-06-23 00:00</td>\n",
       "      <td>S</td>\n",
       "      <td>N</td>\n",
       "      <td>F</td>\n",
       "      <td>WAKEFIELD</td>\n",
       "      <td>LEEDS</td>\n",
       "      <td>WEST YORKSHIRE</td>\n",
       "      <td>A</td>\n",
       "      <td>A</td>\n",
       "    </tr>\n",
       "    <tr>\n",
       "      <th>5</th>\n",
       "      <td>{895E4E63-203F-476A-9AA9-42389DD0AE5C}</td>\n",
       "      <td>81750</td>\n",
       "      <td>1995-05-19 00:00</td>\n",
       "      <td>S</td>\n",
       "      <td>N</td>\n",
       "      <td>F</td>\n",
       "      <td>SALISBURY</td>\n",
       "      <td>SALISBURY</td>\n",
       "      <td>WILTSHIRE</td>\n",
       "      <td>A</td>\n",
       "      <td>A</td>\n",
       "    </tr>\n",
       "    <tr>\n",
       "      <th>6</th>\n",
       "      <td>{FB195C27-E790-45FD-847A-4238BC94546A}</td>\n",
       "      <td>56000</td>\n",
       "      <td>1995-03-10 00:00</td>\n",
       "      <td>S</td>\n",
       "      <td>N</td>\n",
       "      <td>F</td>\n",
       "      <td>WITNEY</td>\n",
       "      <td>WEST OXFORDSHIRE</td>\n",
       "      <td>OXFORDSHIRE</td>\n",
       "      <td>A</td>\n",
       "      <td>A</td>\n",
       "    </tr>\n",
       "    <tr>\n",
       "      <th>7</th>\n",
       "      <td>{1D6B01EC-DC33-4147-8A21-4238BEB2D4C1}</td>\n",
       "      <td>31000</td>\n",
       "      <td>1995-03-02 00:00</td>\n",
       "      <td>S</td>\n",
       "      <td>N</td>\n",
       "      <td>F</td>\n",
       "      <td>ST. AUSTELL</td>\n",
       "      <td>RESTORMEL</td>\n",
       "      <td>CORNWALL</td>\n",
       "      <td>A</td>\n",
       "      <td>A</td>\n",
       "    </tr>\n",
       "    <tr>\n",
       "      <th>8</th>\n",
       "      <td>{B8D0F817-4553-448D-A2C1-4238BF81C6FA}</td>\n",
       "      <td>82000</td>\n",
       "      <td>1995-06-16 00:00</td>\n",
       "      <td>S</td>\n",
       "      <td>N</td>\n",
       "      <td>F</td>\n",
       "      <td>GREENFORD</td>\n",
       "      <td>EALING</td>\n",
       "      <td>GREATER LONDON</td>\n",
       "      <td>A</td>\n",
       "      <td>A</td>\n",
       "    </tr>\n",
       "    <tr>\n",
       "      <th>9</th>\n",
       "      <td>{6DD27423-CC39-4B31-A848-4238D58268D4}</td>\n",
       "      <td>10000</td>\n",
       "      <td>1995-05-17 00:00</td>\n",
       "      <td>T</td>\n",
       "      <td>N</td>\n",
       "      <td>F</td>\n",
       "      <td>FERNDALE</td>\n",
       "      <td>RHONDDA</td>\n",
       "      <td>MID GLAMORGAN</td>\n",
       "      <td>A</td>\n",
       "      <td>A</td>\n",
       "    </tr>\n",
       "  </tbody>\n",
       "</table>\n",
       "</div>"
      ],
      "text/plain": [
       "            Transaction unique identifier  Price  Date of Transfer  \\\n",
       "0  {81B82214-7FBC-4129-9F6B-4956B4A663AD}  25000  1995-08-18 00:00   \n",
       "1  {8046EC72-1466-42D6-A753-4956BF7CD8A2}  42500  1995-08-09 00:00   \n",
       "2  {278D581A-5BF3-4FCE-AF62-4956D87691E6}  45000  1995-06-30 00:00   \n",
       "3  {1D861C06-A416-4865-973C-4956DB12CD12}  43150  1995-11-24 00:00   \n",
       "4  {DD8645FD-A815-43A6-A7BA-4956E58F1874}  18899  1995-06-23 00:00   \n",
       "5  {895E4E63-203F-476A-9AA9-42389DD0AE5C}  81750  1995-05-19 00:00   \n",
       "6  {FB195C27-E790-45FD-847A-4238BC94546A}  56000  1995-03-10 00:00   \n",
       "7  {1D6B01EC-DC33-4147-8A21-4238BEB2D4C1}  31000  1995-03-02 00:00   \n",
       "8  {B8D0F817-4553-448D-A2C1-4238BF81C6FA}  82000  1995-06-16 00:00   \n",
       "9  {6DD27423-CC39-4B31-A848-4238D58268D4}  10000  1995-05-17 00:00   \n",
       "\n",
       "  Property Type Old/New Duration    Town/City            District  \\\n",
       "0             T       N        F       OLDHAM              OLDHAM   \n",
       "1             S       N        F        GRAYS            THURROCK   \n",
       "2             T       N        F   HIGHBRIDGE           SEDGEMOOR   \n",
       "3             T       N        F      BEDFORD  NORTH BEDFORDSHIRE   \n",
       "4             S       N        F    WAKEFIELD               LEEDS   \n",
       "5             S       N        F    SALISBURY           SALISBURY   \n",
       "6             S       N        F       WITNEY    WEST OXFORDSHIRE   \n",
       "7             S       N        F  ST. AUSTELL           RESTORMEL   \n",
       "8             S       N        F    GREENFORD              EALING   \n",
       "9             T       N        F     FERNDALE             RHONDDA   \n",
       "\n",
       "               County PPDCategory Type Record Status - monthly file only  \n",
       "0  GREATER MANCHESTER                A                                 A  \n",
       "1            THURROCK                A                                 A  \n",
       "2            SOMERSET                A                                 A  \n",
       "3        BEDFORDSHIRE                A                                 A  \n",
       "4      WEST YORKSHIRE                A                                 A  \n",
       "5           WILTSHIRE                A                                 A  \n",
       "6         OXFORDSHIRE                A                                 A  \n",
       "7            CORNWALL                A                                 A  \n",
       "8      GREATER LONDON                A                                 A  \n",
       "9       MID GLAMORGAN                A                                 A  "
      ]
     },
     "execution_count": 2,
     "metadata": {},
     "output_type": "execute_result"
    }
   ],
   "source": [
    "# Load the x.csv dataset\n",
    "housing = pd.read_csv(r\"C:\\Users\\HP\\Documents\\New folder\\price_paid_records.csv\")\n",
    "housing.head(10)"
   ]
  },
  {
   "cell_type": "code",
   "execution_count": 3,
   "id": "fc5859db",
   "metadata": {},
   "outputs": [
    {
     "name": "stdout",
     "output_type": "stream",
     "text": [
      "<class 'pandas.core.frame.DataFrame'>\n",
      "RangeIndex: 22489348 entries, 0 to 22489347\n",
      "Data columns (total 11 columns):\n",
      " #   Column                             Dtype \n",
      "---  ------                             ----- \n",
      " 0   Transaction unique identifier      object\n",
      " 1   Price                              int64 \n",
      " 2   Date of Transfer                   object\n",
      " 3   Property Type                      object\n",
      " 4   Old/New                            object\n",
      " 5   Duration                           object\n",
      " 6   Town/City                          object\n",
      " 7   District                           object\n",
      " 8   County                             object\n",
      " 9   PPDCategory Type                   object\n",
      " 10  Record Status - monthly file only  object\n",
      "dtypes: int64(1), object(10)\n",
      "memory usage: 1.8+ GB\n"
     ]
    }
   ],
   "source": [
    "housing.info()"
   ]
  },
  {
   "cell_type": "code",
   "execution_count": 4,
   "id": "c5ce472a",
   "metadata": {},
   "outputs": [
    {
     "data": {
      "text/html": [
       "<div>\n",
       "<style scoped>\n",
       "    .dataframe tbody tr th:only-of-type {\n",
       "        vertical-align: middle;\n",
       "    }\n",
       "\n",
       "    .dataframe tbody tr th {\n",
       "        vertical-align: top;\n",
       "    }\n",
       "\n",
       "    .dataframe thead th {\n",
       "        text-align: right;\n",
       "    }\n",
       "</style>\n",
       "<table border=\"1\" class=\"dataframe\">\n",
       "  <thead>\n",
       "    <tr style=\"text-align: right;\">\n",
       "      <th></th>\n",
       "      <th>Price</th>\n",
       "    </tr>\n",
       "  </thead>\n",
       "  <tbody>\n",
       "    <tr>\n",
       "      <th>count</th>\n",
       "      <td>2.248935e+07</td>\n",
       "    </tr>\n",
       "    <tr>\n",
       "      <th>mean</th>\n",
       "      <td>1.782442e+05</td>\n",
       "    </tr>\n",
       "    <tr>\n",
       "      <th>std</th>\n",
       "      <td>3.903677e+05</td>\n",
       "    </tr>\n",
       "    <tr>\n",
       "      <th>min</th>\n",
       "      <td>1.000000e+00</td>\n",
       "    </tr>\n",
       "    <tr>\n",
       "      <th>25%</th>\n",
       "      <td>7.500000e+04</td>\n",
       "    </tr>\n",
       "    <tr>\n",
       "      <th>50%</th>\n",
       "      <td>1.300000e+05</td>\n",
       "    </tr>\n",
       "    <tr>\n",
       "      <th>75%</th>\n",
       "      <td>2.100000e+05</td>\n",
       "    </tr>\n",
       "    <tr>\n",
       "      <th>max</th>\n",
       "      <td>9.890000e+07</td>\n",
       "    </tr>\n",
       "  </tbody>\n",
       "</table>\n",
       "</div>"
      ],
      "text/plain": [
       "              Price\n",
       "count  2.248935e+07\n",
       "mean   1.782442e+05\n",
       "std    3.903677e+05\n",
       "min    1.000000e+00\n",
       "25%    7.500000e+04\n",
       "50%    1.300000e+05\n",
       "75%    2.100000e+05\n",
       "max    9.890000e+07"
      ]
     },
     "execution_count": 4,
     "metadata": {},
     "output_type": "execute_result"
    }
   ],
   "source": [
    "housing.describe()"
   ]
  },
  {
   "cell_type": "code",
   "execution_count": 12,
   "id": "b0d89fa6",
   "metadata": {},
   "outputs": [
    {
     "data": {
      "text/plain": [
       "<AxesSubplot:xlabel='Price'>"
      ]
     },
     "execution_count": 12,
     "metadata": {},
     "output_type": "execute_result"
    },
    {
     "data": {
      "image/png": "[encoded data removed]",
      "text/plain": [
       "<Figure size 640x480 with 1 Axes>"
      ]
     },
     "metadata": {},
     "output_type": "display_data"
    }
   ],
   "source": [
    "# Finding the outliers\n",
    "sns.boxplot(x=housing['Price'])\n",
    "\n",
    "#from our chat we can deduce that there are no significant outlier"
   ]
  },
  {
   "cell_type": "code",
   "execution_count": 5,
   "id": "c2a47064",
   "metadata": {},
   "outputs": [
    {
     "data": {
      "text/plain": [
       "Transaction unique identifier        object\n",
       "Price                                 int64\n",
       "Date of Transfer                     object\n",
       "Property Type                        object\n",
       "Old/New                              object\n",
       "Duration                             object\n",
       "Town/City                            object\n",
       "District                             object\n",
       "County                               object\n",
       "PPDCategory Type                     object\n",
       "Record Status - monthly file only    object\n",
       "dtype: object"
      ]
     },
     "execution_count": 5,
     "metadata": {},
     "output_type": "execute_result"
    }
   ],
   "source": [
    "housing.dtypes"
   ]
  },
  {
   "cell_type": "code",
   "execution_count": 24,
   "id": "907483e3",
   "metadata": {},
   "outputs": [
    {
     "data": {
      "text/html": [
       "<div>\n",
       "<style scoped>\n",
       "    .dataframe tbody tr th:only-of-type {\n",
       "        vertical-align: middle;\n",
       "    }\n",
       "\n",
       "    .dataframe tbody tr th {\n",
       "        vertical-align: top;\n",
       "    }\n",
       "\n",
       "    .dataframe thead th {\n",
       "        text-align: right;\n",
       "    }\n",
       "</style>\n",
       "<table border=\"1\" class=\"dataframe\">\n",
       "  <thead>\n",
       "    <tr style=\"text-align: right;\">\n",
       "      <th></th>\n",
       "      <th>Price</th>\n",
       "      <th>Date of Transfer</th>\n",
       "      <th>Property Type</th>\n",
       "      <th>Old/New</th>\n",
       "      <th>Duration</th>\n",
       "      <th>Town/City</th>\n",
       "      <th>District</th>\n",
       "      <th>County</th>\n",
       "      <th>PPDCategory Type</th>\n",
       "      <th>Record Status - monthly file only</th>\n",
       "    </tr>\n",
       "  </thead>\n",
       "  <tbody>\n",
       "    <tr>\n",
       "      <th>count</th>\n",
       "      <td>2.248935e+07</td>\n",
       "      <td>22489348</td>\n",
       "      <td>22489348</td>\n",
       "      <td>22489348</td>\n",
       "      <td>22489348</td>\n",
       "      <td>22489348</td>\n",
       "      <td>22489348</td>\n",
       "      <td>22489348</td>\n",
       "      <td>22489348</td>\n",
       "      <td>22489348</td>\n",
       "    </tr>\n",
       "    <tr>\n",
       "      <th>unique</th>\n",
       "      <td>NaN</td>\n",
       "      <td>8212</td>\n",
       "      <td>5</td>\n",
       "      <td>2</td>\n",
       "      <td>3</td>\n",
       "      <td>1170</td>\n",
       "      <td>454</td>\n",
       "      <td>127</td>\n",
       "      <td>2</td>\n",
       "      <td>1</td>\n",
       "    </tr>\n",
       "    <tr>\n",
       "      <th>top</th>\n",
       "      <td>NaN</td>\n",
       "      <td>2016-03-31 00:00</td>\n",
       "      <td>T</td>\n",
       "      <td>N</td>\n",
       "      <td>F</td>\n",
       "      <td>LONDON</td>\n",
       "      <td>BIRMINGHAM</td>\n",
       "      <td>GREATER LONDON</td>\n",
       "      <td>A</td>\n",
       "      <td>A</td>\n",
       "    </tr>\n",
       "    <tr>\n",
       "      <th>freq</th>\n",
       "      <td>NaN</td>\n",
       "      <td>32120</td>\n",
       "      <td>6918811</td>\n",
       "      <td>20192676</td>\n",
       "      <td>17176410</td>\n",
       "      <td>1784194</td>\n",
       "      <td>332091</td>\n",
       "      <td>2993422</td>\n",
       "      <td>22141173</td>\n",
       "      <td>22489348</td>\n",
       "    </tr>\n",
       "    <tr>\n",
       "      <th>mean</th>\n",
       "      <td>1.782442e+05</td>\n",
       "      <td>NaN</td>\n",
       "      <td>NaN</td>\n",
       "      <td>NaN</td>\n",
       "      <td>NaN</td>\n",
       "      <td>NaN</td>\n",
       "      <td>NaN</td>\n",
       "      <td>NaN</td>\n",
       "      <td>NaN</td>\n",
       "      <td>NaN</td>\n",
       "    </tr>\n",
       "    <tr>\n",
       "      <th>std</th>\n",
       "      <td>3.903677e+05</td>\n",
       "      <td>NaN</td>\n",
       "      <td>NaN</td>\n",
       "      <td>NaN</td>\n",
       "      <td>NaN</td>\n",
       "      <td>NaN</td>\n",
       "      <td>NaN</td>\n",
       "      <td>NaN</td>\n",
       "      <td>NaN</td>\n",
       "      <td>NaN</td>\n",
       "    </tr>\n",
       "    <tr>\n",
       "      <th>min</th>\n",
       "      <td>1.000000e+00</td>\n",
       "      <td>NaN</td>\n",
       "      <td>NaN</td>\n",
       "      <td>NaN</td>\n",
       "      <td>NaN</td>\n",
       "      <td>NaN</td>\n",
       "      <td>NaN</td>\n",
       "      <td>NaN</td>\n",
       "      <td>NaN</td>\n",
       "      <td>NaN</td>\n",
       "    </tr>\n",
       "    <tr>\n",
       "      <th>25%</th>\n",
       "      <td>7.500000e+04</td>\n",
       "      <td>NaN</td>\n",
       "      <td>NaN</td>\n",
       "      <td>NaN</td>\n",
       "      <td>NaN</td>\n",
       "      <td>NaN</td>\n",
       "      <td>NaN</td>\n",
       "      <td>NaN</td>\n",
       "      <td>NaN</td>\n",
       "      <td>NaN</td>\n",
       "    </tr>\n",
       "    <tr>\n",
       "      <th>50%</th>\n",
       "      <td>1.300000e+05</td>\n",
       "      <td>NaN</td>\n",
       "      <td>NaN</td>\n",
       "      <td>NaN</td>\n",
       "      <td>NaN</td>\n",
       "      <td>NaN</td>\n",
       "      <td>NaN</td>\n",
       "      <td>NaN</td>\n",
       "      <td>NaN</td>\n",
       "      <td>NaN</td>\n",
       "    </tr>\n",
       "    <tr>\n",
       "      <th>75%</th>\n",
       "      <td>2.100000e+05</td>\n",
       "      <td>NaN</td>\n",
       "      <td>NaN</td>\n",
       "      <td>NaN</td>\n",
       "      <td>NaN</td>\n",
       "      <td>NaN</td>\n",
       "      <td>NaN</td>\n",
       "      <td>NaN</td>\n",
       "      <td>NaN</td>\n",
       "      <td>NaN</td>\n",
       "    </tr>\n",
       "    <tr>\n",
       "      <th>max</th>\n",
       "      <td>9.890000e+07</td>\n",
       "      <td>NaN</td>\n",
       "      <td>NaN</td>\n",
       "      <td>NaN</td>\n",
       "      <td>NaN</td>\n",
       "      <td>NaN</td>\n",
       "      <td>NaN</td>\n",
       "      <td>NaN</td>\n",
       "      <td>NaN</td>\n",
       "      <td>NaN</td>\n",
       "    </tr>\n",
       "  </tbody>\n",
       "</table>\n",
       "</div>"
      ],
      "text/plain": [
       "               Price  Date of Transfer Property Type   Old/New  Duration  \\\n",
       "count   2.248935e+07          22489348      22489348  22489348  22489348   \n",
       "unique           NaN              8212             5         2         3   \n",
       "top              NaN  2016-03-31 00:00             T         N         F   \n",
       "freq             NaN             32120       6918811  20192676  17176410   \n",
       "mean    1.782442e+05               NaN           NaN       NaN       NaN   \n",
       "std     3.903677e+05               NaN           NaN       NaN       NaN   \n",
       "min     1.000000e+00               NaN           NaN       NaN       NaN   \n",
       "25%     7.500000e+04               NaN           NaN       NaN       NaN   \n",
       "50%     1.300000e+05               NaN           NaN       NaN       NaN   \n",
       "75%     2.100000e+05               NaN           NaN       NaN       NaN   \n",
       "max     9.890000e+07               NaN           NaN       NaN       NaN   \n",
       "\n",
       "       Town/City    District          County PPDCategory Type  \\\n",
       "count   22489348    22489348        22489348         22489348   \n",
       "unique      1170         454             127                2   \n",
       "top       LONDON  BIRMINGHAM  GREATER LONDON                A   \n",
       "freq     1784194      332091         2993422         22141173   \n",
       "mean         NaN         NaN             NaN              NaN   \n",
       "std          NaN         NaN             NaN              NaN   \n",
       "min          NaN         NaN             NaN              NaN   \n",
       "25%          NaN         NaN             NaN              NaN   \n",
       "50%          NaN         NaN             NaN              NaN   \n",
       "75%          NaN         NaN             NaN              NaN   \n",
       "max          NaN         NaN             NaN              NaN   \n",
       "\n",
       "       Record Status - monthly file only  \n",
       "count                           22489348  \n",
       "unique                                 1  \n",
       "top                                    A  \n",
       "freq                            22489348  \n",
       "mean                                 NaN  \n",
       "std                                  NaN  \n",
       "min                                  NaN  \n",
       "25%                                  NaN  \n",
       "50%                                  NaN  \n",
       "75%                                  NaN  \n",
       "max                                  NaN  "
      ]
     },
     "execution_count": 24,
     "metadata": {},
     "output_type": "execute_result"
    }
   ],
   "source": [
    "housing.describe(include='all')"
   ]
  },
  {
   "cell_type": "code",
   "execution_count": 25,
   "id": "b3f6ef1d",
   "metadata": {},
   "outputs": [
    {
     "data": {
      "text/plain": [
       "(22489348, 10)"
      ]
     },
     "execution_count": 25,
     "metadata": {},
     "output_type": "execute_result"
    }
   ],
   "source": [
    "housing.shape"
   ]
  },
  {
   "cell_type": "code",
   "execution_count": 26,
   "id": "1cb7a6ef",
   "metadata": {},
   "outputs": [
    {
     "name": "stdout",
     "output_type": "stream",
     "text": [
      "Number of duplicate rows:  (576188, 10)\n"
     ]
    }
   ],
   "source": [
    "duplicate_rows_housing = housing[housing.duplicated()]\n",
    "print(\"Number of duplicate rows: \", duplicate_rows_housing.shape)"
   ]
  },
  {
   "cell_type": "code",
   "execution_count": 27,
   "id": "15353592",
   "metadata": {},
   "outputs": [
    {
     "data": {
      "text/plain": [
       "Price                                22489348\n",
       "Date of Transfer                     22489348\n",
       "Property Type                        22489348\n",
       "Old/New                              22489348\n",
       "Duration                             22489348\n",
       "Town/City                            22489348\n",
       "District                             22489348\n",
       "County                               22489348\n",
       "PPDCategory Type                     22489348\n",
       "Record Status - monthly file only    22489348\n",
       "dtype: int64"
      ]
     },
     "execution_count": 27,
     "metadata": {},
     "output_type": "execute_result"
    }
   ],
   "source": [
    "# Count the rows before removing the data\n",
    "housing.count()"
   ]
  },
  {
   "cell_type": "code",
   "execution_count": 6,
   "id": "b243161e",
   "metadata": {},
   "outputs": [
    {
     "data": {
      "text/plain": [
       "Transaction unique identifier        22489348\n",
       "Price                                22489348\n",
       "Date of Transfer                     22489348\n",
       "Property Type                        22489348\n",
       "Old/New                              22489348\n",
       "Duration                             22489348\n",
       "Town/City                            22489348\n",
       "District                             22489348\n",
       "County                               22489348\n",
       "PPDCategory Type                     22489348\n",
       "Record Status - monthly file only    22489348\n",
       "dtype: int64"
      ]
     },
     "execution_count": 6,
     "metadata": {},
     "output_type": "execute_result"
    }
   ],
   "source": [
    "# Drop the duplicates\n",
    "c = housing.drop_duplicates()\n",
    "housing.count()"
   ]
  },
  {
   "cell_type": "code",
   "execution_count": 14,
   "id": "35df80c3",
   "metadata": {},
   "outputs": [
    {
     "name": "stdout",
     "output_type": "stream",
     "text": [
      "Price                                0\n",
      "Date                                 0\n",
      "Duration                             0\n",
      "Town/City                            0\n",
      "District                             0\n",
      "County                               0\n",
      "PPDCategory Type                     0\n",
      "Record Status - monthly file only    0\n",
      "dtype: int64\n"
     ]
    }
   ],
   "source": [
    "# Find the null  values\n",
    "print(housing.isnull().sum())"
   ]
  },
  {
   "cell_type": "code",
   "execution_count": 7,
   "id": "e18a5010",
   "metadata": {},
   "outputs": [
    {
     "name": "stdout",
     "output_type": "stream",
     "text": [
      "Transaction unique identifier        22489348\n",
      "Price                                  172773\n",
      "Date of Transfer                         8212\n",
      "Property Type                               5\n",
      "Old/New                                     2\n",
      "Duration                                    3\n",
      "Town/City                                1170\n",
      "District                                  454\n",
      "County                                    127\n",
      "PPDCategory Type                            2\n",
      "Record Status - monthly file only           1\n",
      "dtype: int64\n"
     ]
    }
   ],
   "source": [
    "unique_values = housing.nunique()\n",
    "print(unique_values)"
   ]
  },
  {
   "cell_type": "code",
   "execution_count": 29,
   "id": "60d57366",
   "metadata": {},
   "outputs": [
    {
     "data": {
      "image/png": "[encoded data removed]",
      "text/plain": [
       "<Figure size 640x480 with 1 Axes>"
      ]
     },
     "metadata": {},
     "output_type": "display_data"
    }
   ],
   "source": [
    "#bar chart of price by property type\n",
    "housing_grouped = housing.groupby('Property Type')['Price'].mean()\n",
    "\n",
    "#plotting a bar chart\n",
    "housing_grouped.plot(kind='bar', color='skyblue',edgecolor='black')\n",
    "plt.title('Average Price by Property Type')\n",
    "plt.xlabel('Property Type')\n",
    "plt.ylabel('Average Price')\n",
    "plt.show()\n",
    "\n",
    "# From the diagram below we can say that property type is one of the variables that contributes to pricing, in that O(other) is really expensive when compaired to the differrent property types"
   ]
  },
  {
   "cell_type": "code",
   "execution_count": 30,
   "id": "6bb0d3a9",
   "metadata": {},
   "outputs": [
    {
     "data": {
      "image/png": "[encoded data removed]",
      "text/plain": [
       "<Figure size 640x480 with 1 Axes>"
      ]
     },
     "metadata": {},
     "output_type": "display_data"
    }
   ],
   "source": [
    "#bar chart of price by property type\n",
    "housing_grouped = housing.groupby('Property Type')['Price'].sum()\n",
    "\n",
    "#plotting a bar chart\n",
    "housing_grouped.plot(kind='bar', color='skyblue',edgecolor='black')\n",
    "plt.title('Total Price by Property Type')\n",
    "plt.xlabel('Property Type')\n",
    "plt.ylabel('Total Price')\n",
    "plt.show()"
   ]
  },
  {
   "cell_type": "code",
   "execution_count": 15,
   "id": "66db6f16",
   "metadata": {},
   "outputs": [
    {
     "data": {
      "image/png": "[encoded data removed]",
      "text/plain": [
       "<Figure size 640x480 with 1 Axes>"
      ]
     },
     "metadata": {},
     "output_type": "display_data"
    }
   ],
   "source": [
    "#pie chart of price by Old/New\n",
    "pie_grouped = housing.groupby('Old/New')['Price'].mean()\n",
    "\n",
    "#plotting a pie chart\n",
    "pie_grouped.plot(kind='pie', autopct='%1.1f%%', colors=['skyblue', 'lightcoral'])\n",
    "plt.title('Distribution of Prices by Old/New')\n",
    "plt.ylabel('') # To remove the y-axis label\n",
    "plt.show()\n",
    "\n",
    "# We can say that for N- an established residential building and Y- a newly built property, they have slight contribution to pricing"
   ]
  },
  {
   "cell_type": "code",
   "execution_count": 9,
   "id": "10d8faa5",
   "metadata": {},
   "outputs": [
    {
     "name": "stdout",
     "output_type": "stream",
     "text": [
      "The most consistent year in pricing is: 1995\n"
     ]
    }
   ],
   "source": [
    "#3) which year had the most consistency in price\n",
    "\n",
    "# Converting the date column to datetime format\n",
    "housing['Date of Transfer'] = pd.to_datetime(housing['Date of Transfer'])\n",
    "\n",
    "# Extract the year from the date_column\n",
    "housing['year'] = housing['Date of Transfer'].dt.year\n",
    "\n",
    "# Group by year and calculate the standard deviation of prices for each year\n",
    "price_consistency = housing.groupby('year')['Price'].std()\n",
    "\n",
    "# Find the year with the lowest standard deviation (most consistency)\n",
    "most_consistent_year = price_consistency.idxmin()\n",
    "\n",
    "# Display the result\n",
    "print(f\"The most consistent year in pricing is: {most_consistent_year}\")"
   ]
  },
  {
   "cell_type": "code",
   "execution_count": 10,
   "id": "d09ec218",
   "metadata": {},
   "outputs": [
    {
     "name": "stdout",
     "output_type": "stream",
     "text": [
      "Property Demand by Count:\n",
      "T    6918811\n",
      "S    6216218\n",
      "D    5170327\n",
      "F    4083424\n",
      "O     100568\n",
      "Name: Property Type, dtype: int64\n",
      "\n",
      "Property Demand by Average Price:\n",
      "Property Type\n",
      "O    1.295774e+06\n",
      "D    2.500975e+05\n",
      "F    1.749829e+05\n",
      "S    1.489675e+05\n",
      "T    1.365340e+05\n",
      "Name: Price, dtype: float64\n"
     ]
    }
   ],
   "source": [
    "#4) Which properties are in demand\n",
    "\n",
    "# From column named 'Property Type' indicating the type of property\n",
    "\n",
    "# Option 1: Count the frequency of each property type\n",
    "property_demand_count = housing['Property Type'].value_counts()\n",
    "\n",
    "# Option 2: Calculate the average price for each property type\n",
    "property_demand_avg_price = housing.groupby('Property Type')['Price'].mean()\n",
    "\n",
    "# Display the results\n",
    "print(\"Property Demand by Count:\")\n",
    "print(property_demand_count)\n",
    "\n",
    "print(\"\\nProperty Demand by Average Price:\")\n",
    "print(property_demand_avg_price.sort_values(ascending=False))"
   ]
  },
  {
   "cell_type": "code",
   "execution_count": null,
   "id": "8faa6e32",
   "metadata": {},
   "outputs": [],
   "source": [
    "#5) Pricing by ownership model\n",
    "\n",
    "\n",
    "# Assuming you have a column named 'ownership_model' indicating the ownership model\n",
    "# and 'price_column' indicating the price\n",
    "\n",
    "# Calculate the average price for each ownership model\n",
    "average_price_by_ownership = housing.groupby('ownership_model')['Price'].mean()\n",
    "\n",
    "# Identify the ownership model with the lowest average price\n",
    "most_affordable_ownership = average_price_by_ownership.idxmin()\n",
    "\n",
    "# Display the results\n",
    "print(\"Average Price by Ownership Model:\")\n",
    "print(average_price_by_ownership.sort_values())\n",
    "\n",
    "print(f\"\\nThe most affordable ownership model is: {most_affordable_ownership}\")\n"
   ]
  },
  {
   "cell_type": "code",
   "execution_count": 19,
   "id": "e7b5d12b",
   "metadata": {},
   "outputs": [
    {
     "name": "stdout",
     "output_type": "stream",
     "text": [
      "Average Price by City in December 2015:\n",
      "Town/City\n",
      "HENLEY-ON-THAMES    1.416170e+06\n",
      "CHEPSTOW            1.321595e+06\n",
      "COBHAM              1.233661e+06\n",
      "KESTON              1.206000e+06\n",
      "BEACONSFIELD        1.161476e+06\n",
      "                        ...     \n",
      "TREORCHY            6.753125e+04\n",
      "TONYPANDY           6.496562e+04\n",
      "GOODWICK            6.400000e+04\n",
      "NEW TREDEGAR        5.950000e+04\n",
      "FERNDALE            5.273333e+04\n",
      "Name: Price, Length: 1126, dtype: float64\n",
      "\n",
      "The most expensive city in December 2015 is: HENLEY-ON-THAMES with an average price of 1416170.3125\n"
     ]
    }
   ],
   "source": [
    "#6) England December 2015\n",
    "\n",
    "\n",
    "\n",
    "# Converting the date_column to datetime format \n",
    "housing['Date of Transfer'] = pd.to_datetime(housing['Date of Transfer'])\n",
    "\n",
    "# Filtering the dataset for December 2015\n",
    "dec_2015_data = housing[(housing['Date of Transfer'].dt.year == 2015) & (housing['Date of Transfer'].dt.month == 12)]\n",
    "\n",
    "# Grouping by city and calculate the average price for each city in December 2015\n",
    "average_price_by_city_dec_2015 = dec_2015_data.groupby('Town/City')['Price'].mean()\n",
    "\n",
    "# Identify the city with the highest average property price in December 2015\n",
    "most_expensive_city_dec_2015 = average_price_by_city_dec_2015.idxmax()\n",
    "highest_avg_price_dec_2015 = average_price_by_city_dec_2015.max()\n",
    "\n",
    "# Display the results\n",
    "print(\"Average Price by City in December 2015:\")\n",
    "print(average_price_by_city_dec_2015.sort_values(ascending=False))\n",
    "\n",
    "print(f\"\\nThe most expensive city in December 2015 is: {most_expensive_city_dec_2015} with an average price of {highest_avg_price_dec_2015}\")\n"
   ]
  },
  {
   "cell_type": "code",
   "execution_count": 10,
   "id": "3e818196",
   "metadata": {},
   "outputs": [
    {
     "name": "stdout",
     "output_type": "stream",
     "text": [
      "Average Price by City in January 1999:\n",
      "Town/City\n",
      "CHALFONT ST. GILES      459790.000000\n",
      "VIRGINIA WATER          384500.000000\n",
      "COBHAM                  364884.615385\n",
      "BEACONSFIELD            362688.461538\n",
      "ESHER                   336401.923077\n",
      "                            ...      \n",
      "NEWBIGGIN-BY-THE-SEA     18433.333333\n",
      "ST AGNES                 15125.000000\n",
      "HARLECH                  14125.000000\n",
      "NEW TREDEGAR             13000.000000\n",
      "FERNDALE                 13000.000000\n",
      "Name: Price, Length: 1107, dtype: float64\n",
      "\n",
      "The city with the most expensive properties in January 1999 is: CHALFONT ST. GILES with an average price of 459790.0\n"
     ]
    }
   ],
   "source": [
    "#7)\n",
    "#cities with the most expensive properties in Jan. 1999\n",
    "\n",
    "# Convert the 'Date of Transfer' column to datetime format if it's not already\n",
    "housing['Date of Transfer'] = pd.to_datetime(housing['Date of Transfer'])\n",
    "\n",
    "# Filter the dataset for January 1999\n",
    "january_1999_data = housing[(housing['Date of Transfer'].dt.year == 1999) & (housing['Date of Transfer'].dt.month == 1)]\n",
    "\n",
    "# Group by 'Town/City' and calculate the average 'Price' for each city in January 1999\n",
    "average_price_by_city_1999 = january_1999_data.groupby('Town/City')['Price'].mean()\n",
    "\n",
    "# Identify the city with the highest average property price in January 1999\n",
    "most_expensive_city_1999 = average_price_by_city_1999.idxmax()\n",
    "highest_avg_price_1999 = average_price_by_city_1999.max()\n",
    "\n",
    "# Display the results\n",
    "print(\"Average Price by City in January 1999:\")\n",
    "print(average_price_by_city_1999.sort_values(ascending=False))\n",
    "\n",
    "print(f\"\\nThe city with the most expensive properties in January 1999 is: {most_expensive_city_1999} with an average price of {highest_avg_price_1999}\")\n"
   ]
  },
  {
   "cell_type": "code",
   "execution_count": 17,
   "id": "66fccf91",
   "metadata": {},
   "outputs": [
    {
     "name": "stdout",
     "output_type": "stream",
     "text": [
      "There is no cell named 'England' in the 'County' column.\n"
     ]
    }
   ],
   "source": [
    "# Check if 'England' is present in the 'country' column\n",
    "england_present = 'England' in housing['County'].values\n",
    "\n",
    "# Display the result\n",
    "if england_present:\n",
    "    print(\"There is at least one cell named 'England' in the 'County' column.\")\n",
    "else:\n",
    "    print(\"There is no cell named 'England' in the 'County' column.\")\n"
   ]
  },
  {
   "cell_type": "code",
   "execution_count": 11,
   "id": "d755e811",
   "metadata": {},
   "outputs": [
    {
     "name": "stdout",
     "output_type": "stream",
     "text": [
      "Average Price by Location in 2017:\n",
      "Town/City\n",
      "MOOR ROW             4.912375e+04\n",
      "STAINES              5.109965e+04\n",
      "FERNDALE             5.372242e+04\n",
      "TREORCHY             6.667484e+04\n",
      "PENTRE               6.674148e+04\n",
      "                         ...     \n",
      "BEACONSFIELD         9.989277e+05\n",
      "CHALFONT ST GILES    1.000437e+06\n",
      "COBHAM               1.094518e+06\n",
      "VIRGINIA WATER       1.996449e+06\n",
      "GATWICK              4.075000e+07\n",
      "Name: Price, Length: 1145, dtype: float64\n",
      "\n",
      "The cheapest location to get houses in 2017 is: MOOR ROW with an average price of 49123.75\n"
     ]
    }
   ],
   "source": [
    "#8\n",
    "\n",
    "#Where to get the cheapest houses in 2017\n",
    "\n",
    "\n",
    "# Convert the date_column to datetime format if it's not already\n",
    "housing['Date of Transfer'] = pd.to_datetime(housing['Date of Transfer'])\n",
    "\n",
    "# Filter the dataset for the year 2017\n",
    "houses_2017 = housing[housing['Date of Transfer'].dt.year == 2017]\n",
    "\n",
    "# Group by town/city and calculate the average price for each location in 2017\n",
    "average_price_by_location_2017 = houses_2017.groupby('Town/City')['Price'].mean()\n",
    "\n",
    "# Identify the location with the lowest average property price in 2017\n",
    "cheapest_location_2017 = average_price_by_location_2017.idxmin()\n",
    "lowest_avg_price_2017 = average_price_by_location_2017.min()\n",
    "\n",
    "# Display the results\n",
    "print(\"Average Price by Location in 2017:\")\n",
    "print(average_price_by_location_2017.sort_values())\n",
    "\n",
    "print(f\"\\nThe cheapest location to get houses in 2017 is: {cheapest_location_2017} with an average price of {lowest_avg_price_2017}\")"
   ]
  },
  {
   "cell_type": "code",
   "execution_count": 5,
   "id": "217aba4d",
   "metadata": {},
   "outputs": [
    {
     "name": "stdout",
     "output_type": "stream",
     "text": [
      "Average Price by Location and Property Type in November 2016:\n",
      "Town/City        Property Type\n",
      "WEST DRAYTON     O                4.565000e+07\n",
      "HATFIELD         O                2.100000e+07\n",
      "WEST BYFLEET     O                1.657500e+07\n",
      "SWANLEY          O                1.119167e+07\n",
      "BRENTFORD        O                1.110917e+07\n",
      "                                      ...     \n",
      "NEWTON AYCLIFFE  O                1.200000e+03\n",
      "HENGOED          O                1.000000e+03\n",
      "WYLAM            O                7.500000e+02\n",
      "BUNTINGFORD      O                2.000000e+02\n",
      "BASILDON         O                1.000000e+02\n",
      "Name: Price, Length: 4819, dtype: float64\n",
      "\n",
      "The most profitable combination to build a house in November 2016 is: ('WEST DRAYTON', 'O') with an average price of 45650000.0\n"
     ]
    }
   ],
   "source": [
    "#9)\n",
    "\n",
    "# Convert the 'Date of Transfer' column to datetime format if it's not already\n",
    "housing['Date of Transfer'] = pd.to_datetime(housing['Date of Transfer'])\n",
    "\n",
    "# Filter the dataset for November 2016\n",
    "november_2016_data = housing[(housing['Date of Transfer'].dt.year == 2016) & (housing['Date of Transfer'].dt.month == 11)]\n",
    "\n",
    "# Group by 'Town/City' and 'Property Type' and calculate the average 'Price' for each combination in November 2016\n",
    "average_price_by_location_and_type = november_2016_data.groupby(['Town/City', 'Property Type'])['Price'].mean()\n",
    "\n",
    "# Identify the combination with the highest average property price in November 2016\n",
    "most_profitable_combination = average_price_by_location_and_type.idxmax()\n",
    "highest_avg_price_2016 = average_price_by_location_and_type.max()\n",
    "\n",
    "# Display the results\n",
    "print(\"Average Price by Location and Property Type in November 2016:\")\n",
    "print(average_price_by_location_and_type.sort_values(ascending=False))\n",
    "\n",
    "print(f\"\\nThe most profitable combination to build a house in November 2016 is: {most_profitable_combination} with an average price of {highest_avg_price_2016}\")"
   ]
  },
  {
   "cell_type": "code",
   "execution_count": 6,
   "id": "652c3ec0",
   "metadata": {},
   "outputs": [
    {
     "name": "stdout",
     "output_type": "stream",
     "text": [
      "Property Type Demand in November 2016:\n",
      "T    23050\n",
      "S    22358\n",
      "D    19939\n",
      "F    16277\n",
      "O     6198\n",
      "Name: Property Type, dtype: int64\n",
      "\n",
      "The property type in high demand in November 2016 is: T with a transaction count of 23050\n"
     ]
    }
   ],
   "source": [
    "# property type in high demand Nov. 2016\n",
    "\n",
    "# Convert the 'Date of Transfer' column to datetime format if it's not already\n",
    "housing['Date of Transfer'] = pd.to_datetime(housing['Date of Transfer'])\n",
    "\n",
    "# Filter the dataset for November 2016\n",
    "november_2016_data = housing[(housing['Date of Transfer'].dt.year == 2016) & (housing['Date of Transfer'].dt.month == 11)]\n",
    "\n",
    "# Count the transactions for each property type in November 2016\n",
    "property_type_demand = november_2016_data['Property Type'].value_counts()\n",
    "\n",
    "# Identify the property type with the highest transaction frequency\n",
    "most_in_demand_property_type = property_type_demand.idxmax()\n",
    "highest_demand_count = property_type_demand.max()\n",
    "\n",
    "# Display the results\n",
    "print(\"Property Type Demand in November 2016:\")\n",
    "print(property_type_demand)\n",
    "\n",
    "print(f\"\\nThe property type in high demand in November 2016 is: {most_in_demand_property_type} with a transaction count of {highest_demand_count}\")"
   ]
  },
  {
   "cell_type": "code",
   "execution_count": 7,
   "id": "67b1603d",
   "metadata": {},
   "outputs": [
    {
     "name": "stdout",
     "output_type": "stream",
     "text": [
      "Demand by City and Property Type in November 2016:\n",
      "          Town/City Property Type  Transaction Count\n",
      "2517         LONDON             F               3707\n",
      "2520         LONDON             T               1085\n",
      "583        BRADFORD             O                547\n",
      "2650     MANCHESTER             S                521\n",
      "2518         LONDON             O                483\n",
      "...             ...           ...                ...\n",
      "2420       LISKEARD             F                  1\n",
      "3627       SEDBERGH             S                  1\n",
      "1227      CREWKERNE             O                  1\n",
      "4329      UTTOXETER             F                  1\n",
      "4818  YSTRAD MEURIG             S                  1\n",
      "\n",
      "[4819 rows x 3 columns]\n",
      "\n",
      "The combination in high demand in November 2016 is: LONDON - F with a transaction count of 3707\n"
     ]
    }
   ],
   "source": [
    "# Convert the 'Date of Transfer' column to datetime format if it's not already\n",
    "housing['Date of Transfer'] = pd.to_datetime(housing['Date of Transfer'])\n",
    "\n",
    "# Filter the dataset for November 2016\n",
    "november_2016_data = housing[(housing['Date of Transfer'].dt.year == 2016) & (housing['Date of Transfer'].dt.month == 11)]\n",
    "\n",
    "# Count the transactions for each combination of city and property type in November 2016\n",
    "demand_by_city_and_type = november_2016_data.groupby(['Town/City', 'Property Type']).size().reset_index(name='Transaction Count')\n",
    "\n",
    "# Identify the combination with the highest transaction frequency\n",
    "most_in_demand_combination = demand_by_city_and_type.loc[demand_by_city_and_type['Transaction Count'].idxmax()]\n",
    "\n",
    "# Display the results\n",
    "print(\"Demand by City and Property Type in November 2016:\")\n",
    "print(demand_by_city_and_type.sort_values(by='Transaction Count', ascending=False))\n",
    "\n",
    "print(f\"\\nThe combination in high demand in November 2016 is: {most_in_demand_combination['Town/City']} - {most_in_demand_combination['Property Type']} with a transaction count of {most_in_demand_combination['Transaction Count']}\")"
   ]
  },
  {
   "cell_type": "code",
   "execution_count": null,
   "id": "593f9bdb",
   "metadata": {},
   "outputs": [],
   "source": []
  }
 ],
 "metadata": {
  "kernelspec": {
   "display_name": "Python 3 (ipykernel)",
   "language": "python",
   "name": "python3"
  },
  "language_info": {
   "codemirror_mode": {
    "name": "ipython",
    "version": 3
   },
   "file_extension": ".py",
   "mimetype": "text/x-python",
   "name": "python",
   "nbconvert_exporter": "python",
   "pygments_lexer": "ipython3",
   "version": "3.9.13"
  }
 },
 "nbformat": 4,
 "nbformat_minor": 5
}
